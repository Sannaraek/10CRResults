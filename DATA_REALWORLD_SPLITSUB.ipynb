{
 "cells": [
  {
   "cell_type": "code",
   "execution_count": 1,
   "metadata": {},
   "outputs": [],
   "source": [
    "import numpy as np\n",
    "import os\n",
    "import pandas as pd\n",
    "import zipfile\n",
    "\n",
    "from sklearn.preprocessing import StandardScaler\n",
    "import hickle as hkl \n",
    "np.random.seed(0)"
   ]
  },
  {
   "cell_type": "code",
   "execution_count": 2,
   "metadata": {},
   "outputs": [],
   "source": [
    "activities = ['climbingdown','climbingup','jumping','lying','running','sitting','standing','walking'] \n",
    "orientations = ['chest','forearm','head','shin','thigh','upperarm','waist']"
   ]
  },
  {
   "cell_type": "code",
   "execution_count": 3,
   "metadata": {},
   "outputs": [],
   "source": [
    "for id in range(1,16):\n",
    "    id = str(id)\n",
    "    for activity in activities:\n",
    "        for sensor in [\"acc\",\"gyr\"]:\n",
    "            dirName = sensor\n",
    "            if(sensor == \"gyr\"):\n",
    "                dirName = \"Gyroscope\"\n",
    "            with zipfile.ZipFile('dataset/realworld2016_dataset/proband'+id+'/data/'+sensor+'_'+str(activity)+'_csv.zip', 'r') as zip_ref:\n",
    "                os.makedirs('dataset/REALWORLD/'+dirName+'/'+id, exist_ok=True)\n",
    "                zip_ref.extractall('dataset/REALWORLD/'+dirName+'/'+id)\n",
    "\n",
    "            for i in range (1,4):\n",
    "                if os.path.exists('dataset/REALWORLD/'+dirName+'/'+id+'/'+sensor+'_'+str(activity)+'_'+str(i)+'_csv.zip'):\n",
    "                    with zipfile.ZipFile('dataset/REALWORLD/'+dirName+'/'+id+'/'+sensor+'_'+str(activity)+'_'+str(i)+'_csv.zip', 'r') as zip_ref:\n",
    "                        zip_ref.extractall('dataset/REALWORLD/'+dirName+'/'+id)\n",
    "                    os.remove('dataset/REALWORLD/'+dirName+'/'+id+'/'+sensor+'_'+str(activity)+'_'+str(i)+'_csv.zip') \n",
    "            if os.path.exists('dataset/REALWORLD/'+dirName+'/'+id+'/'+sensor+'_'+str(activity)+'_csv.zip'):\n",
    "                with zipfile.ZipFile('dataset/REALWORLD/'+dirName+'/'+id+'/'+sensor+'_'+str(activity)+'_csv.zip', 'r') as zip_ref:\n",
    "                    zip_ref.extractall('dataset/REALWORLD/'+dirName+'/'+id)\n",
    "                os.remove('dataset/REALWORLD/'+dirName+'/'+id+'/'+sensor+'_'+str(activity)+'_csv.zip') "
   ]
  },
  {
   "cell_type": "code",
   "execution_count": 4,
   "metadata": {},
   "outputs": [],
   "source": [
    "def formatData(data,dim):\n",
    "    remainders = data.shape[0]%dim\n",
    "    max_index = data.shape[0] - remainders\n",
    "    data = data[:max_index,:]\n",
    "    new = np.reshape(data, (-1, 128,3))\n",
    "    return new"
   ]
  },
  {
   "cell_type": "code",
   "execution_count": 5,
   "metadata": {},
   "outputs": [],
   "source": [
    "from numpy import dstack\n",
    "from pandas import read_csv\n",
    "\n",
    "def segmentData(accData,time_step,step):\n",
    "#     print(accData.shape)\n",
    "    segmentAccData = list()\n",
    "    for i in range(0, accData.shape[0] - time_step,step):\n",
    "        segmentAccData.append(accData[i:i+time_step,:])\n",
    "    return segmentAccData\n",
    " \n",
    "def load_file(filepath):\n",
    "    dataframe = read_csv(filepath, header=0,usecols=[2,3,4])\n",
    "    return dataframe.values\n",
    " \n",
    "def load_group(filenames, filepath='',trainOrEval=0):\n",
    "    loaded = list()\n",
    "    for name in filenames:\n",
    "        data = load_file(filepath + name)\n",
    "        data = np.asarray(data)\n",
    "        data = segmentData(data,128,64)\n",
    "        data = np.asarray(data)\n",
    "        loaded.append(data)\n",
    "    return loaded\n",
    "\n",
    "def isReadableFile(file_path, file_name,flag):\n",
    "    full_path = file_path + \"/\" + file_name\n",
    "    try:\n",
    "        if not os.path.exists(file_path):\n",
    "            return False\n",
    "        elif not os.path.isfile(full_path):\n",
    "            return False\n",
    "        elif not os.access(full_path, os.R_OK):\n",
    "            return False\n",
    "        else:\n",
    "            return True\n",
    "    except IOError as ex:\n",
    "        print (\"I/O error({0}): {1}\".format(ex.errno, ex.strerror))\n",
    "    except Error as ex:\n",
    "        print (\"Error({0}): {1}\".format(ex.errno, ex.strerror))\n",
    "    return False\n",
    "\n",
    "\n",
    "# stairs down 0 \n",
    "# stairs Up   1\n",
    "# jumping     2\n",
    "# lying       3\n",
    "# standing    4 \n",
    "# sitting     5\n",
    "# running/jogging 6\n",
    "# Walking     7\n",
    "\n",
    "def segmentLabel(labelData,time_step,step):\n",
    "    segmentLabelData = list()\n",
    "    for i in range(0, labelData.shape[0] - time_step,step):\n",
    "        segmentLabelData.append(labelData[i:i+time_step])\n",
    "    return segmentLabelData\n"
   ]
  },
  {
   "cell_type": "code",
   "execution_count": 6,
   "metadata": {},
   "outputs": [],
   "source": [
    "def load_dataset(group, datasetName='',activity='',orientation='',trainOrEval=0,client = 0):\n",
    "    filepath = 'dataset/'+datasetName +'/'+ group + '/'\n",
    "    filenames = list()\n",
    "    if(isReadableFile('dataset/'+datasetName +'/'+ group, str(client)+'/'+group+'_'+activity+'_'+orientation+'.csv',0)):\n",
    "        filenames += [str(client)+'/'+group+'_'+activity+'_'+orientation+'.csv']\n",
    "    if(isReadableFile('dataset/'+datasetName +'/'+ group, str(client)+'/'+group+'_'+activity+'_2_'+orientation+'.csv',1)):\n",
    "        filenames += [str(client)+'/'+group+'_'+activity+'_2_'+orientation+'.csv']\n",
    "    if(isReadableFile('dataset/'+datasetName +'/'+ group, str(client)+'/'+group+'_'+activity+'_3_'+orientation+'.csv',1)):\n",
    "        filenames += [str(client)+'/'+group+'_'+activity+'_3_'+orientation+'.csv']\n",
    "    X = load_group(filenames, filepath,trainOrEval)\n",
    "    return X"
   ]
  },
  {
   "cell_type": "code",
   "execution_count": 7,
   "metadata": {
    "scrolled": true
   },
   "outputs": [],
   "source": [
    "xAccListClient = list()\n",
    "xGyrListClient = list()\n",
    "yListClient = list()\n",
    "for k in range(1,16):\n",
    "    xAccList = list()\n",
    "    xGyrList = list()\n",
    "    yList = list()\n",
    "    for activity in activities:\n",
    "        for orientation in orientations:\n",
    "            tempAcc = load_dataset('acc','REALWORLD',activity,orientation,0,k)\n",
    "            tempGyro = load_dataset('Gyroscope','REALWORLD',activity,orientation,0,k)\n",
    "            for i in range(0, len(tempAcc)):  \n",
    "                accDataLength = len(tempAcc[i])\n",
    "                gyroDataLength = len(tempGyro[i])\n",
    "                difference = accDataLength - gyroDataLength\n",
    "                differenceAbs = abs(difference)\n",
    "                if(differenceAbs < 21):\n",
    "                    if(difference > 0):\n",
    "                        maxIndex = accDataLength-differenceAbs\n",
    "                        xAccList.append(tempAcc[i][:maxIndex,:])\n",
    "                        xGyrList.append(tempGyro[i])\n",
    "                        yList.append(np.full(([tempGyro[i].shape[0]]), activities.index(activity)))\n",
    "                    else:\n",
    "                        maxIndex = gyroDataLength-differenceAbs\n",
    "                        xAccList.append(tempAcc[i])\n",
    "                        xGyrList.append(tempGyro[i][:maxIndex,:])\n",
    "                        yList.append(np.full(([tempAcc[i].shape[0]]), activities.index(activity)))\n",
    "    xAccListClient.append(np.vstack((xAccList)))\n",
    "    xGyrListClient.append(np.vstack((xGyrList)))\n",
    "    yListClient.append(np.hstack((yList)))"
   ]
  },
  {
   "cell_type": "code",
   "execution_count": 8,
   "metadata": {},
   "outputs": [],
   "source": [
    "xAccListClient = np.asarray(xAccListClient)\n",
    "xGyrListClient = np.asarray(xGyrListClient)\n",
    "yListClient = np.asarray(yListClient)"
   ]
  },
  {
   "cell_type": "code",
   "execution_count": 9,
   "metadata": {},
   "outputs": [],
   "source": [
    "allAcc = np.vstack((xAccListClient))\n",
    "allGyro = np.vstack((xGyrListClient))"
   ]
  },
  {
   "cell_type": "code",
   "execution_count": 10,
   "metadata": {},
   "outputs": [],
   "source": [
    "meanAcc = np.mean(allAcc)\n",
    "stdAcc = np.std(allAcc)\n",
    "varAcc = np.var(allAcc)\n",
    "stackedFeaturesAcc = np.hstack((meanAcc,stdAcc,varAcc))\n",
    "\n",
    "meanGyro = np.mean(allGyro)\n",
    "stdGyro = np.std(allGyro)\n",
    "varGyro = np.var(allGyro)\n",
    "stackedFeaturesGyro = np.hstack((meanGyro,stdGyro,varGyro))\n"
   ]
  },
  {
   "cell_type": "code",
   "execution_count": 11,
   "metadata": {},
   "outputs": [],
   "source": [
    "stackedFeatures = np.vstack((stackedFeaturesAcc,stackedFeaturesGyro))"
   ]
  },
  {
   "cell_type": "code",
   "execution_count": 12,
   "metadata": {},
   "outputs": [],
   "source": [
    "normalizedAcc = (xAccListClient - meanAcc)/stdAcc\n",
    "normalizedGyro = (xGyrListClient - meanGyro)/stdGyro"
   ]
  },
  {
   "cell_type": "code",
   "execution_count": 13,
   "metadata": {},
   "outputs": [],
   "source": [
    "dataName = 'REALWORLD_CLIENT'\n",
    "os.makedirs('datasetStand/'+dataName+ '/features', exist_ok=True)\n",
    "for i in range(0,15):\n",
    "    os.makedirs('datasetStand/'+dataName+ '/'+str(i), exist_ok=True)\n",
    "    hkl.dump(normalizedAcc[i][:,:,0],'datasetStand/'+dataName+ '/'+str(i)+'/AccX'+dataName+'.hkl' )\n",
    "    hkl.dump(normalizedAcc[i][:,:,1],'datasetStand/'+dataName+ '/'+str(i)+'/AccY'+dataName+'.hkl' )\n",
    "    hkl.dump(normalizedAcc[i][:,:,2],'datasetStand/'+dataName+ '/'+str(i)+'/AccZ'+dataName+'.hkl' )\n",
    "    hkl.dump(normalizedGyro[i][:,:,0],'datasetStand/'+dataName+ '/'+str(i)+'/GyroX'+dataName+'.hkl' )\n",
    "    hkl.dump(normalizedGyro[i][:,:,1],'datasetStand/'+dataName+ '/'+str(i)+'/GyroY'+dataName+'.hkl' )\n",
    "    hkl.dump(normalizedGyro[i][:,:,2],'datasetStand/'+dataName+ '/'+str(i)+'/GyroZ'+dataName+'.hkl' )\n",
    "    hkl.dump(yListClient[i],'datasetStand/'+dataName+ '/'+str(i)+'/Label'+dataName+'.hkl' )"
   ]
  }
 ],
 "metadata": {
  "kernelspec": {
   "display_name": "Python 3",
   "language": "python",
   "name": "python3"
  },
  "language_info": {
   "codemirror_mode": {
    "name": "ipython",
    "version": 3
   },
   "file_extension": ".py",
   "mimetype": "text/x-python",
   "name": "python",
   "nbconvert_exporter": "python",
   "pygments_lexer": "ipython3",
   "version": "3.7.4"
  }
 },
 "nbformat": 4,
 "nbformat_minor": 4
}
